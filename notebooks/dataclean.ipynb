{
 "cells": [
  {
   "cell_type": "code",
   "execution_count": 2,
   "id": "5bfcea3e",
   "metadata": {},
   "outputs": [],
   "source": [
    "import pandas as pd\n"
   ]
  },
  {
   "cell_type": "code",
   "execution_count": 3,
   "id": "f0e17ed8",
   "metadata": {},
   "outputs": [],
   "source": [
    "df=pd.read_csv(r\"C:\\Users\\2024\\Desktop\\RFM Analysis\\data\\OnlineRetail.csv\", encoding=\"unicode_escape\")"
   ]
  },
  {
   "cell_type": "code",
   "execution_count": 4,
   "id": "48145697",
   "metadata": {},
   "outputs": [],
   "source": [
    "#drop rows without customer\n",
    "df=df.dropna(subset=[\"CustomerID\"])\n",
    "#remove return and cancel orders\n",
    "df=df[df[\"Quantity\"]>0]\n"
   ]
  },
  {
   "cell_type": "code",
   "execution_count": 5,
   "id": "a8bc5715",
   "metadata": {},
   "outputs": [],
   "source": [
    "df[\"InvoiceDate\"]=pd.to_datetime(df[\"InvoiceDate\"])"
   ]
  },
  {
   "cell_type": "code",
   "execution_count": 6,
   "id": "447ddbee",
   "metadata": {},
   "outputs": [],
   "source": [
    "#Transaction amount = quantity x unit price\n",
    "df[\"Amount\"] = df[\"Quantity\"] * df[\"UnitPrice\"]"
   ]
  },
  {
   "cell_type": "code",
   "execution_count": 7,
   "id": "c5864d76",
   "metadata": {},
   "outputs": [],
   "source": [
    "\n",
    "#Aggregation\n",
    "\n",
    "transactions = df.groupby([\"CustomerID\",\"InvoiceNo\",\"InvoiceDate\"], as_index=False)[\"Amount\"].sum()"
   ]
  },
  {
   "cell_type": "code",
   "execution_count": 8,
   "id": "c5539b4f",
   "metadata": {},
   "outputs": [],
   "source": [
    "#Rename column to standardized names\n",
    "transactions.rename(columns={\n",
    "    \"CustomerID\":\"customer_id\",\n",
    "    \"InvoiceNo\":\"order_id\",\n",
    "    \"InvoiceDate\":\"order_date\"\n",
    "},inplace=True)"
   ]
  },
  {
   "cell_type": "code",
   "execution_count": 9,
   "id": "7a365d27",
   "metadata": {},
   "outputs": [],
   "source": [
    "transactions.head()\n",
    "transactions.to_csv(\"clean_transactions.csv\",index=False)"
   ]
  },
  {
   "cell_type": "code",
   "execution_count": 10,
   "id": "605a248f",
   "metadata": {},
   "outputs": [],
   "source": [
    "#Set a reference date\n",
    "#Recency is measured relative to a fixed today date\n",
    "now=df[\"InvoiceDate\"].max() + pd.Timedelta(days=1)"
   ]
  },
  {
   "cell_type": "code",
   "execution_count": 11,
   "id": "24b2d40d",
   "metadata": {},
   "outputs": [],
   "source": [
    "#Grouping by customer to compute RFM\n",
    "\n",
    "rfm= df.groupby(\"CustomerID\").agg({\n",
    "    \"InvoiceDate\" : lambda x: (now -x.max()).days, #Recency\n",
    "    #x.max()  finds the most recvent purchase date, now - x(max) calculates the time difference between today and last purchase date\n",
    "    \"InvoiceNo\":\"nunique\" ,#Frequency, counts the number of unique orders for that custoomer\n",
    "    \"Amount\":\"sum\" #Monetary, adds up spend across all invoices\n",
    "}).reset_index()"
   ]
  },
  {
   "cell_type": "code",
   "execution_count": 12,
   "id": "06612f07",
   "metadata": {},
   "outputs": [],
   "source": [
    "#Rename columns\n",
    "\n",
    "rfm.rename(columns={\n",
    "    \"InvoiceDate\":\"Recency\",\n",
    "    \"InvoiceNo\":\"Frequency\",\n",
    "    \"Amount\":\"Monetary\"\n",
    "},inplace=True)"
   ]
  },
  {
   "cell_type": "code",
   "execution_count": 13,
   "id": "a0d24444",
   "metadata": {},
   "outputs": [],
   "source": [
    "rfm.head()\n",
    "rfm.to_csv(\"rfm.csv\",index=False)"
   ]
  }
 ],
 "metadata": {
  "kernelspec": {
   "display_name": "ecommerce-bot",
   "language": "python",
   "name": "python3"
  },
  "language_info": {
   "codemirror_mode": {
    "name": "ipython",
    "version": 3
   },
   "file_extension": ".py",
   "mimetype": "text/x-python",
   "name": "python",
   "nbconvert_exporter": "python",
   "pygments_lexer": "ipython3",
   "version": "3.10.18"
  }
 },
 "nbformat": 4,
 "nbformat_minor": 5
}
